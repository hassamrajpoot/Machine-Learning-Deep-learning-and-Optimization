{
  "nbformat": 4,
  "nbformat_minor": 0,
  "metadata": {
    "colab": {
      "provenance": []
    },
    "kernelspec": {
      "name": "python3",
      "display_name": "Python 3"
    },
    "language_info": {
      "name": "python"
    },
    "gpuClass": "standard",
    "accelerator": "TPU"
  },
  "cells": [
    {
      "cell_type": "code",
      "execution_count": null,
      "metadata": {
        "id": "KXj_lyzZCnoS"
      },
      "outputs": [],
      "source": [
        "import tensorflow as tf\n",
        "from tensorflow import keras\n",
        "import os\n",
        "from keras.models import Sequential\n",
        "from keras.layers import Activation,Conv2D,GlobalAveragePooling2D,Dropout, Flatten, Dense , MaxPool2D\n",
        "from keras.callbacks import EarlyStopping\n",
        "from keras.preprocessing.image import ImageDataGenerator\n",
        "import numpy as np\n",
        "from sklearn import metrics\n",
        "from keras import regularizers"
      ]
    },
    {
      "cell_type": "code",
      "source": [
        "tpu = 'grpc://' + os.environ['COLAB_TPU_ADDR']\n",
        "resolver = tf.distribute.cluster_resolver.TPUClusterResolver(tpu=tpu)\n",
        "tf.config.experimental_connect_to_cluster(resolver)\n",
        "tf.tpu.experimental.initialize_tpu_system(resolver)"
      ],
      "metadata": {
        "colab": {
          "base_uri": "https://localhost:8080/"
        },
        "id": "2FwuDkRhM4YL",
        "outputId": "6efa94e2-f757-4cb8-a58b-4adae4e41779"
      },
      "execution_count": null,
      "outputs": [
        {
          "output_type": "stream",
          "name": "stderr",
          "text": [
            "WARNING:tensorflow:TPU system grpc://10.91.9.186:8470 has already been initialized. Reinitializing the TPU can cause previously created variables on TPU to be lost.\n"
          ]
        },
        {
          "output_type": "execute_result",
          "data": {
            "text/plain": [
              "<tensorflow.python.tpu.topology.Topology at 0x7f11c643ae90>"
            ]
          },
          "metadata": {},
          "execution_count": 8
        }
      ]
    },
    {
      "cell_type": "code",
      "source": [
        "strategy = tf.distribute.experimental.TPUStrategy(resolver)"
      ],
      "metadata": {
        "colab": {
          "base_uri": "https://localhost:8080/"
        },
        "id": "Tvwu6kVeOYdV",
        "outputId": "92319f40-ee3b-4004-87ff-55ae36fb8ba1"
      },
      "execution_count": null,
      "outputs": [
        {
          "output_type": "stream",
          "name": "stderr",
          "text": [
            "WARNING:absl:`tf.distribute.experimental.TPUStrategy` is deprecated, please use  the non experimental symbol `tf.distribute.TPUStrategy` instead.\n"
          ]
        }
      ]
    },
    {
      "cell_type": "code",
      "source": [
        "train_data = ImageDataGenerator(rescale=1./255,)\n",
        "test_data = ImageDataGenerator(rescale=1./255)\n",
        "\n",
        "train_set = train_data.flow_from_directory('/content/drive/MyDrive/data/train/',\n",
        "                                          class_mode = 'binary')\n",
        "                                         \n",
        "test_set = test_data.flow_from_directory('/content/drive/MyDrive/data/test/',\n",
        "                                          class_mode = 'binary',\n",
        "                                         shuffle=False)"
      ],
      "metadata": {
        "colab": {
          "base_uri": "https://localhost:8080/"
        },
        "id": "qeYpRy6d5QRS",
        "outputId": "e43b0312-fe0a-488e-ef16-914ff1f18581"
      },
      "execution_count": null,
      "outputs": [
        {
          "output_type": "stream",
          "name": "stdout",
          "text": [
            "Found 2637 images belonging to 2 classes.\n",
            "Found 660 images belonging to 2 classes.\n"
          ]
        }
      ]
    },
    {
      "cell_type": "code",
      "source": [
        "train_set.class_indices"
      ],
      "metadata": {
        "colab": {
          "base_uri": "https://localhost:8080/"
        },
        "id": "Yq8yd2dyk-2N",
        "outputId": "1439f27b-ce5b-4e38-a4ca-899d74a46aa7"
      },
      "execution_count": null,
      "outputs": [
        {
          "output_type": "execute_result",
          "data": {
            "text/plain": [
              "{'benign': 0, 'malignant': 1}"
            ]
          },
          "metadata": {},
          "execution_count": 40
        }
      ]
    },
    {
      "cell_type": "code",
      "source": [],
      "metadata": {
        "id": "O1E4hBx7dORQ"
      },
      "execution_count": null,
      "outputs": []
    },
    {
      "cell_type": "code",
      "source": [
        "model = tf.keras.models.Sequential([ tf.keras.layers.Conv2D(16, (3,3), activation='relu', input_shape=(256, 256, 3)),\n",
        "                                    tf.keras.layers.MaxPooling2D(2, 2),\n",
        "                                    tf.keras.layers.Conv2D(32, (3,3), activation='relu'),\n",
        "                                    tf.keras.layers.MaxPooling2D(2,2),\n",
        "                                    tf.keras.layers.Conv2D(64, (3,3), activation='relu'),\n",
        "                                    tf.keras.layers.MaxPooling2D(2,2),\n",
        "                                    tf.keras.layers.Conv2D(64, (3,3), activation='relu'),\n",
        "                                    tf.keras.layers.MaxPooling2D(2,2),\n",
        "                                    tf.keras.layers.Conv2D(64, (3,3), activation='relu'),\n",
        "                                    tf.keras.layers.MaxPooling2D(2,2),\n",
        "                                    tf.keras.layers.Flatten(),\n",
        "                                    tf.keras.layers.Dense(512, activation='relu',kernel_regularizer=regularizers.l2(0.01)),\n",
        "                                    Dropout(.50),\n",
        "                                    tf.keras.layers.Dense(1, activation='sigmoid')])"
      ],
      "metadata": {
        "id": "TRiQ4GTfuWP2"
      },
      "execution_count": null,
      "outputs": []
    },
    {
      "cell_type": "code",
      "source": [
        "model = keras.Sequential()\n",
        "model.add(keras.layers.Conv2D(64,(3,3),activation='relu',input_shape=(256,256,3)))\n",
        "model.add(Dropout(0.20))\n",
        "model.add(keras.layers.MaxPool2D(2,2))\n",
        "model.add(keras.layers.Conv2D(64,(3,3),activation='relu'))\n",
        "model.add(Dropout(0.20))\n",
        "model.add(keras.layers.MaxPool2D(2,2))\n",
        "model.add(keras.layers.Conv2D(128,(3,3),activation='relu'))\n",
        "model.add(Dropout(0.20))\n",
        "model.add(keras.layers.MaxPool2D(2,2))\n",
        "model.add(keras.layers.Conv2D(128,(3,3),activation='relu'))\n",
        "model.add(Dropout(0.20))\n",
        "model.add(keras.layers.MaxPool2D(2,2))\n",
        "model.add(keras.layers.Flatten()) \n",
        "model.add(keras.layers.Dense(512,activation='relu',kernel_regularizer=regularizers.l2(0.01)))\n",
        "model.add(Dropout(0.50))\n",
        "model.add(keras.layers.Dense(1,activation='sigmoid'))"
      ],
      "metadata": {
        "id": "seI4AZSKDmUE"
      },
      "execution_count": null,
      "outputs": []
    },
    {
      "cell_type": "markdown",
      "source": [
        "INPUT:224×224×3 \n",
        " \n",
        "CONV3:3×3 size,32  filters, 1 stride \n",
        " \n",
        "ReLU: max (0, hθ(x)) \n",
        " \n",
        "POOL:2×2 size,1 stride \n",
        " \n",
        "CONV3: 3×3 size,32  filters,1  stride \n",
        " \n",
        "ReLU: max (0, hθ(x)) \n",
        " \n",
        "POOL:2×2 size,1 stride \n",
        " \n",
        "FC: 128 Hidden Neurons \n",
        " \n",
        "FC: 2 Output Classes (because this  is a Binary Classification). \n",
        "\n",
        " "
      ],
      "metadata": {
        "id": "xZKz2kA9Kpls"
      }
    },
    {
      "cell_type": "code",
      "source": [
        "model = Sequential()\n",
        "model.add(Conv2D(32, (3,3), strides=(1,1),input_shape=(256,256,3) ,activation='relu'))\n",
        "model.add(MaxPool2D((2,2), strides=(1,1)))\n",
        "#model.add(Dropout(0.25))\n",
        "model.add(Conv2D(32, (3,3), strides=(1,1),activation='relu'))\n",
        "model.add(MaxPool2D((2,2), strides=(1,1)))\n",
        "model.add(keras.layers.Flatten()) \n",
        "model.add(keras.layers.Dense(128,activation='relu'))\n",
        "model.add(keras.layers.Dense(1,activation='sigmoid'))"
      ],
      "metadata": {
        "id": "f46LUFhHLTX6"
      },
      "execution_count": null,
      "outputs": []
    },
    {
      "cell_type": "code",
      "source": [
        "model.compile(loss='binary_crossentropy', optimizer='adam', metrics=['accuracy'])"
      ],
      "metadata": {
        "id": "9lzgRIo7nnMe"
      },
      "execution_count": null,
      "outputs": []
    },
    {
      "cell_type": "code",
      "source": [
        "callback = EarlyStopping(monitor='loss', patience=10)\n",
        "epochs=20\n",
        "history = model.fit_generator(train_set,validation_data=test_set, epochs=epochs,callbacks=[callback])"
      ],
      "metadata": {
        "colab": {
          "base_uri": "https://localhost:8080/"
        },
        "id": "gY4nyIqHoGnm",
        "outputId": "3cefc56c-960d-4640-e6ba-041d319b4916"
      },
      "execution_count": null,
      "outputs": [
        {
          "output_type": "stream",
          "name": "stdout",
          "text": [
            "Epoch 1/20\n"
          ]
        },
        {
          "output_type": "stream",
          "name": "stderr",
          "text": [
            "/usr/local/lib/python3.7/dist-packages/ipykernel_launcher.py:3: UserWarning: `Model.fit_generator` is deprecated and will be removed in a future version. Please use `Model.fit`, which supports generators.\n",
            "  This is separate from the ipykernel package so we can avoid doing imports until\n"
          ]
        },
        {
          "output_type": "stream",
          "name": "stdout",
          "text": [
            "83/83 [==============================] - 16s 186ms/step - loss: 1.9521 - accuracy: 0.6792 - val_loss: 0.4950 - val_accuracy: 0.7576\n",
            "Epoch 2/20\n",
            "83/83 [==============================] - 15s 183ms/step - loss: 0.5074 - accuracy: 0.7656 - val_loss: 0.4525 - val_accuracy: 0.7864\n",
            "Epoch 3/20\n",
            "83/83 [==============================] - 14s 166ms/step - loss: 0.4919 - accuracy: 0.7812 - val_loss: 0.4821 - val_accuracy: 0.7818\n",
            "Epoch 4/20\n",
            "83/83 [==============================] - 14s 167ms/step - loss: 0.4760 - accuracy: 0.7873 - val_loss: 0.4221 - val_accuracy: 0.8167\n",
            "Epoch 5/20\n",
            "83/83 [==============================] - 14s 164ms/step - loss: 0.4672 - accuracy: 0.7819 - val_loss: 0.4206 - val_accuracy: 0.8242\n",
            "Epoch 6/20\n",
            "83/83 [==============================] - 14s 171ms/step - loss: 0.4630 - accuracy: 0.7884 - val_loss: 0.4440 - val_accuracy: 0.7894\n",
            "Epoch 7/20\n",
            "83/83 [==============================] - 14s 163ms/step - loss: 0.4570 - accuracy: 0.7998 - val_loss: 0.4058 - val_accuracy: 0.8333\n",
            "Epoch 8/20\n",
            "83/83 [==============================] - 13s 162ms/step - loss: 0.4335 - accuracy: 0.8032 - val_loss: 0.4052 - val_accuracy: 0.8333\n",
            "Epoch 9/20\n",
            "83/83 [==============================] - 13s 161ms/step - loss: 0.4505 - accuracy: 0.7986 - val_loss: 0.4064 - val_accuracy: 0.8212\n",
            "Epoch 10/20\n",
            "83/83 [==============================] - 14s 163ms/step - loss: 0.4447 - accuracy: 0.7990 - val_loss: 0.4309 - val_accuracy: 0.8197\n",
            "Epoch 11/20\n",
            "83/83 [==============================] - 13s 162ms/step - loss: 0.4454 - accuracy: 0.8028 - val_loss: 0.4058 - val_accuracy: 0.7985\n",
            "Epoch 12/20\n",
            "83/83 [==============================] - 13s 161ms/step - loss: 0.4305 - accuracy: 0.8123 - val_loss: 0.3934 - val_accuracy: 0.8182\n",
            "Epoch 13/20\n",
            "83/83 [==============================] - 13s 161ms/step - loss: 0.4135 - accuracy: 0.8168 - val_loss: 0.4156 - val_accuracy: 0.8197\n",
            "Epoch 14/20\n",
            "83/83 [==============================] - 13s 162ms/step - loss: 0.4368 - accuracy: 0.8085 - val_loss: 0.4342 - val_accuracy: 0.8091\n",
            "Epoch 15/20\n",
            "83/83 [==============================] - 13s 161ms/step - loss: 0.4138 - accuracy: 0.8278 - val_loss: 0.3929 - val_accuracy: 0.8424\n",
            "Epoch 16/20\n",
            "83/83 [==============================] - 14s 165ms/step - loss: 0.4063 - accuracy: 0.8297 - val_loss: 0.4000 - val_accuracy: 0.8152\n",
            "Epoch 17/20\n",
            "83/83 [==============================] - 14s 167ms/step - loss: 0.3975 - accuracy: 0.8221 - val_loss: 0.4263 - val_accuracy: 0.7939\n",
            "Epoch 18/20\n",
            "83/83 [==============================] - 13s 161ms/step - loss: 0.4139 - accuracy: 0.8229 - val_loss: 0.3874 - val_accuracy: 0.8364\n",
            "Epoch 19/20\n",
            "83/83 [==============================] - 16s 199ms/step - loss: 0.3947 - accuracy: 0.8267 - val_loss: 0.3938 - val_accuracy: 0.8379\n",
            "Epoch 20/20\n",
            "83/83 [==============================] - 13s 160ms/step - loss: 0.3768 - accuracy: 0.8339 - val_loss: 0.4027 - val_accuracy: 0.8182\n"
          ]
        }
      ]
    },
    {
      "cell_type": "code",
      "source": [
        "test_set.reset()\n",
        "predictions = model.predict_generator(test_set)\n",
        "predicted_classes = np.round(predictions)\n",
        "true_classes = test_set.classes"
      ],
      "metadata": {
        "colab": {
          "base_uri": "https://localhost:8080/"
        },
        "id": "cGwcEpVdTwHa",
        "outputId": "2c4d08b3-0b41-4181-a927-1a8aa2dd4682"
      },
      "execution_count": null,
      "outputs": [
        {
          "output_type": "stream",
          "name": "stderr",
          "text": [
            "/usr/local/lib/python3.7/dist-packages/ipykernel_launcher.py:2: UserWarning: `Model.predict_generator` is deprecated and will be removed in a future version. Please use `Model.predict`, which supports generators.\n",
            "  \n"
          ]
        }
      ]
    },
    {
      "cell_type": "code",
      "source": [
        "from sklearn.metrics import confusion_matrix\n",
        "import seaborn as sns\n",
        "ax = sns.heatmap(metrics.confusion_matrix(true_classes, predicted_classes), annot=True, cmap='Blues',  fmt=\"d\")\n",
        "ax.set_title('Confusion Matrix') \n",
        "ax.xaxis.set_ticklabels(['benign', 'malignant'])\n",
        "ax.yaxis.set_ticklabels(['benign','malignant'])"
      ],
      "metadata": {
        "colab": {
          "base_uri": "https://localhost:8080/",
          "height": 298
        },
        "id": "SZTESocea8A0",
        "outputId": "38c28d56-e564-4e19-8216-6235eddea755"
      },
      "execution_count": null,
      "outputs": [
        {
          "output_type": "execute_result",
          "data": {
            "text/plain": [
              "[Text(0, 0.5, 'benign'), Text(0, 1.5, 'malignant')]"
            ]
          },
          "metadata": {},
          "execution_count": 23
        },
        {
          "output_type": "display_data",
          "data": {
            "text/plain": [
              "<Figure size 432x288 with 2 Axes>"
            ],
            "image/png": "[encoded data removed]"
          },
          "metadata": {
            "needs_background": "light"
          }
        }
      ]
    },
    {
      "cell_type": "code",
      "source": [
        "model.evaluate(test_set)"
      ],
      "metadata": {
        "colab": {
          "base_uri": "https://localhost:8080/"
        },
        "id": "zLSLd6AsojnP",
        "outputId": "c4feaddf-70e7-46bc-8e29-9aed24235dd6"
      },
      "execution_count": null,
      "outputs": [
        {
          "output_type": "stream",
          "name": "stdout",
          "text": [
            "21/21 [==============================] - 3s 118ms/step - loss: 0.4027 - accuracy: 0.8182\n"
          ]
        },
        {
          "output_type": "execute_result",
          "data": {
            "text/plain": [
              "[0.40273043513298035, 0.8181818127632141]"
            ]
          },
          "metadata": {},
          "execution_count": 24
        }
      ]
    },
    {
      "cell_type": "code",
      "source": [
        "from sklearn.metrics import roc_curve\n",
        "from sklearn.metrics import auc\n",
        "import matplotlib.pyplot as plt\n",
        "fpr_keras, tpr_keras, thresholds_keras = roc_curve(true_classes, predicted_classes)\n",
        "auc_keras = auc(fpr_keras, tpr_keras)\n",
        "plt.figure(1)\n",
        "plt.plot([0, 1], [0, 1], 'k--')\n",
        "plt.plot(fpr_keras, tpr_keras, label='(area = {:.3f})'.format(auc_keras))\n",
        "plt.xlabel('False positive rate')\n",
        "plt.ylabel('True positive rate')\n",
        "plt.title('ROC curve')\n",
        "plt.legend(loc='best')\n",
        "plt.show()"
      ],
      "metadata": {
        "colab": {
          "base_uri": "https://localhost:8080/",
          "height": 295
        },
        "id": "FovcS1k2n-at",
        "outputId": "a469852f-606c-406f-f4b9-8410db9fd349"
      },
      "execution_count": null,
      "outputs": [
        {
          "output_type": "display_data",
          "data": {
            "text/plain": [
              "<Figure size 432x288 with 1 Axes>"
            ],
            "image/png": "[encoded data removed]"
          },
          "metadata": {
            "needs_background": "light"
          }
        }
      ]
    },
    {
      "cell_type": "code",
      "source": [
        "print('True negative rate: {}'.format(metrics.confusion_matrix(true_classes, predicted_classes)[0][0]))\n",
        "print('True positive rate: {}'.format(metrics.confusion_matrix(true_classes, predicted_classes)[1][1]))\n",
        "print('False negative rate: {}'.format(metrics.confusion_matrix(true_classes, predicted_classes)[1][0]))\n",
        "print('False positive rate: {}'.format(metrics.confusion_matrix(true_classes, predicted_classes)[0][1]))"
      ],
      "metadata": {
        "colab": {
          "base_uri": "https://localhost:8080/"
        },
        "id": "Ye9gvWDdo-ej",
        "outputId": "fc4334ae-54e1-41aa-b1b5-e1757b0682b6"
      },
      "execution_count": null,
      "outputs": [
        {
          "output_type": "stream",
          "name": "stdout",
          "text": [
            "True negative rate: 273\n",
            "True positive rate: 274\n",
            "False negative rate: 26\n",
            "False positive rate: 87\n"
          ]
        }
      ]
    }
  ]
}